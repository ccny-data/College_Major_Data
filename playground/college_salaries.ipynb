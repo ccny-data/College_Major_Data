{
  "nbformat": 4,
  "nbformat_minor": 0,
  "metadata": {
    "colab": {
      "name": "college_salaries.ipynb",
      "version": "0.3.2",
      "provenance": [],
      "collapsed_sections": [],
      "include_colab_link": true
    },
    "kernelspec": {
      "name": "python3",
      "display_name": "Python 3"
    }
  },
  "cells": [
    {
      "cell_type": "markdown",
      "metadata": {
        "id": "view-in-github",
        "colab_type": "text"
      },
      "source": [
        "<a href=\"https://colab.research.google.com/github/ccny-data/College_Major_Data/blob/master/playground/college_salaries.ipynb\" target=\"_parent\"><img src=\"https://colab.research.google.com/assets/colab-badge.svg\" alt=\"Open In Colab\"/></a>"
      ]
    },
    {
      "metadata": {
        "id": "ZK3YBE8s8n0z",
        "colab_type": "code",
        "colab": {}
      },
      "cell_type": "code",
      "source": [
        "# import stuffs\n",
        "import pandas as pd\n",
        "import matplotlib.pyplot as plt"
      ],
      "execution_count": 0,
      "outputs": []
    },
    {
      "metadata": {
        "id": "09rQ5KKl80z3",
        "colab_type": "code",
        "colab": {}
      },
      "cell_type": "code",
      "source": [
        "# load data\n",
        "degrees_that_pay_back = pd.read_csv('https://raw.githubusercontent.com/ccny-data/College_Major_Data/master/data/college-salaries/degrees-that-pay-back.csv')\n",
        "salaries_by_college_type = pd.read_csv('https://raw.githubusercontent.com/ccny-data/College_Major_Data/master/data/college-salaries/salaries-by-college-type.csv')\n",
        "salaries_by_region = pd.read_csv('https://raw.githubusercontent.com/ccny-data/College_Major_Data/master/data/college-salaries/salaries-by-region.csv')\n"
      ],
      "execution_count": 0,
      "outputs": []
    },
    {
      "metadata": {
        "id": "6zrHNST2BfWt",
        "colab_type": "code",
        "outputId": "64997942-47f0-4a3e-c260-54716dda408b",
        "colab": {
          "base_uri": "https://localhost:8080/",
          "height": 153
        }
      },
      "cell_type": "code",
      "source": [
        "list(degrees_that_pay_back)"
      ],
      "execution_count": 3,
      "outputs": [
        {
          "output_type": "execute_result",
          "data": {
            "text/plain": [
              "['Undergraduate Major',\n",
              " 'Starting Median Salary',\n",
              " 'Mid-Career Median Salary',\n",
              " 'Percent change from Starting to Mid-Career Salary',\n",
              " 'Mid-Career 10th Percentile Salary',\n",
              " 'Mid-Career 25th Percentile Salary',\n",
              " 'Mid-Career 75th Percentile Salary',\n",
              " 'Mid-Career 90th Percentile Salary']"
            ]
          },
          "metadata": {
            "tags": []
          },
          "execution_count": 3
        }
      ]
    },
    {
      "metadata": {
        "id": "nzHK_D9c9Px6",
        "colab_type": "code",
        "outputId": "b11052e4-d528-40aa-a128-562fe9cf2118",
        "colab": {
          "base_uri": "https://localhost:8080/",
          "height": 97
        }
      },
      "cell_type": "code",
      "source": [
        "# test data\n",
        "degrees_that_pay_back.sort_values(by='Percent change from Starting to Mid-Career Salary').head(1)"
      ],
      "execution_count": 24,
      "outputs": [
        {
          "output_type": "execute_result",
          "data": {
            "text/html": [
              "<div>\n",
              "<style scoped>\n",
              "    .dataframe tbody tr th:only-of-type {\n",
              "        vertical-align: middle;\n",
              "    }\n",
              "\n",
              "    .dataframe tbody tr th {\n",
              "        vertical-align: top;\n",
              "    }\n",
              "\n",
              "    .dataframe thead th {\n",
              "        text-align: right;\n",
              "    }\n",
              "</style>\n",
              "<table border=\"1\" class=\"dataframe\">\n",
              "  <thead>\n",
              "    <tr style=\"text-align: right;\">\n",
              "      <th></th>\n",
              "      <th>Undergraduate Major</th>\n",
              "      <th>Starting Median Salary</th>\n",
              "      <th>Mid-Career Median Salary</th>\n",
              "      <th>Percent change from Starting to Mid-Career Salary</th>\n",
              "      <th>Mid-Career 10th Percentile Salary</th>\n",
              "      <th>Mid-Career 25th Percentile Salary</th>\n",
              "      <th>Mid-Career 75th Percentile Salary</th>\n",
              "      <th>Mid-Career 90th Percentile Salary</th>\n",
              "    </tr>\n",
              "  </thead>\n",
              "  <tbody>\n",
              "    <tr>\n",
              "      <th>43</th>\n",
              "      <td>Physician Assistant</td>\n",
              "      <td>74300.0</td>\n",
              "      <td>91700.0</td>\n",
              "      <td>23.4</td>\n",
              "      <td>66400.0</td>\n",
              "      <td>75200.0</td>\n",
              "      <td>108000.0</td>\n",
              "      <td>124000.0</td>\n",
              "    </tr>\n",
              "  </tbody>\n",
              "</table>\n",
              "</div>"
            ],
            "text/plain": [
              "    Undergraduate Major  Starting Median Salary  Mid-Career Median Salary  \\\n",
              "43  Physician Assistant                 74300.0                   91700.0   \n",
              "\n",
              "    Percent change from Starting to Mid-Career Salary  \\\n",
              "43                                               23.4   \n",
              "\n",
              "    Mid-Career 10th Percentile Salary  Mid-Career 25th Percentile Salary  \\\n",
              "43                            66400.0                            75200.0   \n",
              "\n",
              "    Mid-Career 75th Percentile Salary  Mid-Career 90th Percentile Salary  \n",
              "43                           108000.0                           124000.0  "
            ]
          },
          "metadata": {
            "tags": []
          },
          "execution_count": 24
        }
      ]
    },
    {
      "metadata": {
        "id": "FRhqU9NbAFw-",
        "colab_type": "code",
        "outputId": "e2bed7a3-57db-4822-cd74-3a093c2e4a6d",
        "colab": {
          "base_uri": "https://localhost:8080/",
          "height": 97
        }
      },
      "cell_type": "code",
      "source": [
        "degrees_that_pay_back.sort_values(by='Starting Median Salary').head(1)"
      ],
      "execution_count": 28,
      "outputs": [
        {
          "output_type": "execute_result",
          "data": {
            "text/html": [
              "<div>\n",
              "<style scoped>\n",
              "    .dataframe tbody tr th:only-of-type {\n",
              "        vertical-align: middle;\n",
              "    }\n",
              "\n",
              "    .dataframe tbody tr th {\n",
              "        vertical-align: top;\n",
              "    }\n",
              "\n",
              "    .dataframe thead th {\n",
              "        text-align: right;\n",
              "    }\n",
              "</style>\n",
              "<table border=\"1\" class=\"dataframe\">\n",
              "  <thead>\n",
              "    <tr style=\"text-align: right;\">\n",
              "      <th></th>\n",
              "      <th>Undergraduate Major</th>\n",
              "      <th>Starting Median Salary</th>\n",
              "      <th>Mid-Career Median Salary</th>\n",
              "      <th>Percent change from Starting to Mid-Career Salary</th>\n",
              "      <th>Mid-Career 10th Percentile Salary</th>\n",
              "      <th>Mid-Career 25th Percentile Salary</th>\n",
              "      <th>Mid-Career 75th Percentile Salary</th>\n",
              "      <th>Mid-Career 90th Percentile Salary</th>\n",
              "    </tr>\n",
              "  </thead>\n",
              "  <tbody>\n",
              "    <tr>\n",
              "      <th>49</th>\n",
              "      <td>Spanish</td>\n",
              "      <td>34000.0</td>\n",
              "      <td>53100.0</td>\n",
              "      <td>56.2</td>\n",
              "      <td>31000.0</td>\n",
              "      <td>40000.0</td>\n",
              "      <td>76800.0</td>\n",
              "      <td>96400.0</td>\n",
              "    </tr>\n",
              "  </tbody>\n",
              "</table>\n",
              "</div>"
            ],
            "text/plain": [
              "   Undergraduate Major  Starting Median Salary  Mid-Career Median Salary  \\\n",
              "49             Spanish                 34000.0                   53100.0   \n",
              "\n",
              "    Percent change from Starting to Mid-Career Salary  \\\n",
              "49                                               56.2   \n",
              "\n",
              "    Mid-Career 10th Percentile Salary  Mid-Career 25th Percentile Salary  \\\n",
              "49                            31000.0                            40000.0   \n",
              "\n",
              "    Mid-Career 75th Percentile Salary  Mid-Career 90th Percentile Salary  \n",
              "49                            76800.0                            96400.0  "
            ]
          },
          "metadata": {
            "tags": []
          },
          "execution_count": 28
        }
      ]
    },
    {
      "metadata": {
        "id": "-lJxLqW79TUi",
        "colab_type": "code",
        "colab": {}
      },
      "cell_type": "code",
      "source": [
        "degrees_that_pay_back['Starting Median Salary'] = degrees_that_pay_back['Starting Median Salary'].str.replace('$', '')\n",
        "degrees_that_pay_back['Starting Median Salary'] = degrees_that_pay_back['Starting Median Salary'].str.replace(',', '')\n",
        "degrees_that_pay_back['Starting Median Salary'] = degrees_that_pay_back['Starting Median Salary'].astype(float).fillna(0.0)"
      ],
      "execution_count": 0,
      "outputs": []
    },
    {
      "metadata": {
        "id": "kCkjgCxPNxAU",
        "colab_type": "code",
        "colab": {}
      },
      "cell_type": "code",
      "source": [
        "degrees_that_pay_back['Mid-Career Median Salary'] = degrees_that_pay_back['Mid-Career Median Salary'].str.replace('$', '')\n",
        "degrees_that_pay_back['Mid-Career Median Salary'] = degrees_that_pay_back['Mid-Career Median Salary'].str.replace(',', '')\n",
        "degrees_that_pay_back['Mid-Career Median Salary'] = degrees_that_pay_back['Mid-Career Median Salary'].astype(float).fillna(0.0)"
      ],
      "execution_count": 0,
      "outputs": []
    },
    {
      "metadata": {
        "id": "e4OFo4tWCRk7",
        "colab_type": "code",
        "colab": {}
      },
      "cell_type": "code",
      "source": [
        "degrees_that_pay_back['Mid-Career 10th Percentile Salary'] = degrees_that_pay_back['Mid-Career 10th Percentile Salary'].str.replace('$', '')\n",
        "degrees_that_pay_back['Mid-Career 10th Percentile Salary'] = degrees_that_pay_back['Mid-Career 10th Percentile Salary'].str.replace(',', '')\n",
        "degrees_that_pay_back['Mid-Career 10th Percentile Salary'] = degrees_that_pay_back['Mid-Career 10th Percentile Salary'].astype(float).fillna(0.0)"
      ],
      "execution_count": 0,
      "outputs": []
    },
    {
      "metadata": {
        "id": "OSYIs43LPzV8",
        "colab_type": "code",
        "colab": {}
      },
      "cell_type": "code",
      "source": [
        "degrees_that_pay_back['Mid-Career 25th Percentile Salary'] = degrees_that_pay_back['Mid-Career 25th Percentile Salary'].str.replace('$', '')\n",
        "degrees_that_pay_back['Mid-Career 25th Percentile Salary'] = degrees_that_pay_back['Mid-Career 25th Percentile Salary'].str.replace(',', '')\n",
        "degrees_that_pay_back['Mid-Career 25th Percentile Salary'] = degrees_that_pay_back['Mid-Career 25th Percentile Salary'].astype(float).fillna(0.0)"
      ],
      "execution_count": 0,
      "outputs": []
    },
    {
      "metadata": {
        "id": "LU32yOtkP1hb",
        "colab_type": "code",
        "colab": {}
      },
      "cell_type": "code",
      "source": [
        "degrees_that_pay_back['Mid-Career 75th Percentile Salary'] = degrees_that_pay_back['Mid-Career 75th Percentile Salary'].str.replace('$', '')\n",
        "degrees_that_pay_back['Mid-Career 75th Percentile Salary'] = degrees_that_pay_back['Mid-Career 75th Percentile Salary'].str.replace(',', '')\n",
        "degrees_that_pay_back['Mid-Career 75th Percentile Salary'] = degrees_that_pay_back['Mid-Career 75th Percentile Salary'].astype(float).fillna(0.0)"
      ],
      "execution_count": 0,
      "outputs": []
    },
    {
      "metadata": {
        "id": "nes04dX0P2AR",
        "colab_type": "code",
        "colab": {}
      },
      "cell_type": "code",
      "source": [
        "degrees_that_pay_back['Mid-Career 90th Percentile Salary'] = degrees_that_pay_back['Mid-Career 90th Percentile Salary'].str.replace('$', '')\n",
        "degrees_that_pay_back['Mid-Career 90th Percentile Salary'] = degrees_that_pay_back['Mid-Career 90th Percentile Salary'].str.replace(',', '')\n",
        "degrees_that_pay_back['Mid-Career 90th Percentile Salary'] = degrees_that_pay_back['Mid-Career 90th Percentile Salary'].astype(float).fillna(0.0)"
      ],
      "execution_count": 0,
      "outputs": []
    },
    {
      "metadata": {
        "id": "zZOURKr4GlYJ",
        "colab_type": "code",
        "colab": {}
      },
      "cell_type": "code",
      "source": [
        "# degrees_that_pay_back.startingMedSal = degrees_that_pay_back['Starting Median Salary']/10000"
      ],
      "execution_count": 0,
      "outputs": []
    },
    {
      "metadata": {
        "id": "4jRocviyLExa",
        "colab_type": "code",
        "colab": {}
      },
      "cell_type": "code",
      "source": [
        "# degrees_that_pay_back.startingMedSal.head()"
      ],
      "execution_count": 0,
      "outputs": []
    },
    {
      "metadata": {
        "id": "XmTU5EHELN7y",
        "colab_type": "code",
        "colab": {
          "base_uri": "https://localhost:8080/",
          "height": 286
        },
        "outputId": "1af167cd-bb3d-49fc-e564-9b235838a617"
      },
      "cell_type": "code",
      "source": [
        "degrees_that_pay_back['Starting Median Salary'].hist(bins=5)"
      ],
      "execution_count": 14,
      "outputs": [
        {
          "output_type": "execute_result",
          "data": {
            "text/plain": [
              "<matplotlib.axes._subplots.AxesSubplot at 0x7ff13d98b9e8>"
            ]
          },
          "metadata": {
            "tags": []
          },
          "execution_count": 14
        },
        {
          "output_type": "display_data",
          "data": {
            "image/png": "[encoded data removed]",
            "text/plain": [
              "<Figure size 432x288 with 1 Axes>"
            ]
          },
          "metadata": {
            "tags": []
          }
        }
      ]
    },
    {
      "metadata": {
        "id": "goXWPtFVL6xM",
        "colab_type": "code",
        "colab": {
          "base_uri": "https://localhost:8080/",
          "height": 286
        },
        "outputId": "97f8f2ab-5e4e-45b3-d5af-10a115cb80d2"
      },
      "cell_type": "code",
      "source": [
        "degrees_that_pay_back['Mid-Career Median Salary'].hist(bins=5)"
      ],
      "execution_count": 15,
      "outputs": [
        {
          "output_type": "execute_result",
          "data": {
            "text/plain": [
              "<matplotlib.axes._subplots.AxesSubplot at 0x7ff13d8f2320>"
            ]
          },
          "metadata": {
            "tags": []
          },
          "execution_count": 15
        },
        {
          "output_type": "display_data",
          "data": {
            "image/png": "[encoded data removed]",
            "text/plain": [
              "<Figure size 432x288 with 1 Axes>"
            ]
          },
          "metadata": {
            "tags": []
          }
        }
      ]
    },
    {
      "metadata": {
        "id": "EHJdskPeOtYW",
        "colab_type": "code",
        "colab": {
          "base_uri": "https://localhost:8080/",
          "height": 286
        },
        "outputId": "be3de4f6-c1d4-48c3-f6c9-28ff41b5b361"
      },
      "cell_type": "code",
      "source": [
        "degrees_that_pay_back['Mid-Career 10th Percentile Salary'].hist(bins=10)"
      ],
      "execution_count": 20,
      "outputs": [
        {
          "output_type": "execute_result",
          "data": {
            "text/plain": [
              "<matplotlib.axes._subplots.AxesSubplot at 0x7ff13aed0b00>"
            ]
          },
          "metadata": {
            "tags": []
          },
          "execution_count": 20
        },
        {
          "output_type": "display_data",
          "data": {
            "image/png": "[encoded data removed]",
            "text/plain": [
              "<Figure size 432x288 with 1 Axes>"
            ]
          },
          "metadata": {
            "tags": []
          }
        }
      ]
    },
    {
      "metadata": {
        "id": "0gNq3Yr8PWbE",
        "colab_type": "code",
        "colab": {
          "base_uri": "https://localhost:8080/",
          "height": 286
        },
        "outputId": "31ef7473-fbcc-4435-898f-2c42ac5e4bf3"
      },
      "cell_type": "code",
      "source": [
        "degrees_that_pay_back['Mid-Career 25th Percentile Salary'].hist(bins=10)"
      ],
      "execution_count": 21,
      "outputs": [
        {
          "output_type": "execute_result",
          "data": {
            "text/plain": [
              "<matplotlib.axes._subplots.AxesSubplot at 0x7ff13afc8780>"
            ]
          },
          "metadata": {
            "tags": []
          },
          "execution_count": 21
        },
        {
          "output_type": "display_data",
          "data": {
            "image/png": "[encoded data removed]",
            "text/plain": [
              "<Figure size 432x288 with 1 Axes>"
            ]
          },
          "metadata": {
            "tags": []
          }
        }
      ]
    },
    {
      "metadata": {
        "id": "NE4J9vfHQEmi",
        "colab_type": "code",
        "colab": {
          "base_uri": "https://localhost:8080/",
          "height": 286
        },
        "outputId": "d5d6f23a-7b90-4924-d18a-d7a91ac5560f"
      },
      "cell_type": "code",
      "source": [
        "degrees_that_pay_back['Mid-Career 75th Percentile Salary'].hist(bins=10)"
      ],
      "execution_count": 22,
      "outputs": [
        {
          "output_type": "execute_result",
          "data": {
            "text/plain": [
              "<matplotlib.axes._subplots.AxesSubplot at 0x7ff13adaf320>"
            ]
          },
          "metadata": {
            "tags": []
          },
          "execution_count": 22
        },
        {
          "output_type": "display_data",
          "data": {
            "image/png": "[encoded data removed]",
            "text/plain": [
              "<Figure size 432x288 with 1 Axes>"
            ]
          },
          "metadata": {
            "tags": []
          }
        }
      ]
    },
    {
      "metadata": {
        "id": "eSdo2WW5QE_O",
        "colab_type": "code",
        "colab": {
          "base_uri": "https://localhost:8080/",
          "height": 286
        },
        "outputId": "1a0e7c59-75d5-4ce8-a9f5-a9ceba108088"
      },
      "cell_type": "code",
      "source": [
        "degrees_that_pay_back['Mid-Career 90th Percentile Salary'].hist(bins=10)"
      ],
      "execution_count": 23,
      "outputs": [
        {
          "output_type": "execute_result",
          "data": {
            "text/plain": [
              "<matplotlib.axes._subplots.AxesSubplot at 0x7ff13ad9d240>"
            ]
          },
          "metadata": {
            "tags": []
          },
          "execution_count": 23
        },
        {
          "output_type": "display_data",
          "data": {
            "image/png": "[encoded data removed]",
            "text/plain": [
              "<Figure size 432x288 with 1 Axes>"
            ]
          },
          "metadata": {
            "tags": []
          }
        }
      ]
    },
    {
      "metadata": {
        "id": "w0zp12FSQaYP",
        "colab_type": "code",
        "colab": {}
      },
      "cell_type": "code",
      "source": [
        ""
      ],
      "execution_count": 0,
      "outputs": []
    }
  ]
}