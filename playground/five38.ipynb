{
  "nbformat": 4,
  "nbformat_minor": 0,
  "metadata": {
    "colab": {
      "name": "five38.ipynb",
      "version": "0.3.2",
      "provenance": [],
      "collapsed_sections": []
    },
    "kernelspec": {
      "name": "python3",
      "display_name": "Python 3"
    }
  },
  "cells": [
    {
      "metadata": {
        "id": "LF34dDrlyGhx",
        "colab_type": "code",
        "colab": {}
      },
      "cell_type": "code",
      "source": [
        "# import stuffs\n",
        "import pandas as pd\n",
        "import matplotlib.pyplot as plt"
      ],
      "execution_count": 0,
      "outputs": []
    },
    {
      "metadata": {
        "id": "4UkC8-MgzEXO",
        "colab_type": "code",
        "colab": {}
      },
      "cell_type": "code",
      "source": [
        "# load data\n",
        "all_ages = pd.read_csv('https://raw.githubusercontent.com/ccny-data/College_Major_Data/master/data/fivethirtyeight-college-majors-dataset/all-ages.csv')\n",
        "grad_students = pd.read_csv('https://raw.githubusercontent.com/ccny-data/College_Major_Data/master/data/fivethirtyeight-college-majors-dataset/grad-students.csv')\n",
        "majors_list = pd.read_csv('https://raw.githubusercontent.com/ccny-data/College_Major_Data/master/data/fivethirtyeight-college-majors-dataset/majors-list.csv')\n",
        "recent_grads = pd.read_csv('https://raw.githubusercontent.com/ccny-data/College_Major_Data/master/data/fivethirtyeight-college-majors-dataset/recent-grads.csv')\n",
        "women_stem = pd.read_csv('https://raw.githubusercontent.com/ccny-data/College_Major_Data/master/data/fivethirtyeight-college-majors-dataset/women-stem.csv')"
      ],
      "execution_count": 0,
      "outputs": []
    },
    {
      "metadata": {
        "id": "tBSAzyYgzbpq",
        "colab_type": "code",
        "colab": {}
      },
      "cell_type": "code",
      "source": [
        "# test headings \n",
        "\n",
        "# all_ages.head(1)\n",
        "# grad_students.head(1)\n",
        "# majors_list.head(1)\n",
        "# recent_grads.head(1)\n",
        "# women_stem.head(1)"
      ],
      "execution_count": 0,
      "outputs": []
    },
    {
      "metadata": {
        "id": "uNQUI7nS0B7w",
        "colab_type": "code",
        "colab": {}
      },
      "cell_type": "code",
      "source": [
        " "
      ],
      "execution_count": 0,
      "outputs": []
    }
  ]
}